{
  "nbformat": 4,
  "nbformat_minor": 0,
  "metadata": {
    "colab": {
      "name": "lab7.ipynb",
      "provenance": [],
      "collapsed_sections": [
        "V3uYJlQWyqw4"
      ],
      "authorship_tag": "ABX9TyMbtT9xUfN819y2Skzf/oos"
    },
    "kernelspec": {
      "name": "python3",
      "display_name": "Python 3"
    },
    "language_info": {
      "name": "python"
    }
  },
  "cells": [
    {
      "cell_type": "code",
      "metadata": {
        "id": "eA0k9yykOJI3"
      },
      "source": [
        "from math import exp, sqrt, sin, cos\n",
        "import matplotlib.pyplot as plt"
      ],
      "execution_count": null,
      "outputs": []
    },
    {
      "cell_type": "markdown",
      "metadata": {
        "id": "i5z2j05JNQR9"
      },
      "source": [
        "# Решить задачу Коши для ОДУ первого порядка на указанном отрезке с заданным шагом $h$"
      ]
    },
    {
      "cell_type": "markdown",
      "metadata": {
        "id": "VzAcs7whmKg7"
      },
      "source": [
        "## Дано:"
      ]
    },
    {
      "cell_type": "code",
      "metadata": {
        "id": "if1LaCmeTSUT"
      },
      "source": [
        "f = lambda x,y: -2*x*y + x*exp(x**2)\n",
        "y_x = lambda x: (exp(x**2) - exp(-x**2)) / 4\n",
        "# y_x = lambda x: (exp(x) * x**2) / 2\n",
        "l, r = 0, 1\n",
        "h = 0.1\n",
        "y0 = 0\n",
        "x = [l]\n",
        "for i in range(int((r-l)/h)): x.append(x[-1]+h)"
      ],
      "execution_count": null,
      "outputs": []
    },
    {
      "cell_type": "markdown",
      "metadata": {
        "id": "nOeLpRPNNoxp"
      },
      "source": [
        "## Метод Эйлера"
      ]
    },
    {
      "cell_type": "code",
      "metadata": {
        "id": "TvvMMmWfOk_g"
      },
      "source": [
        "def Euler(x, h, y0, f):\n",
        "    y = [y0]\n",
        "    for i in range(len(x)-1):\n",
        "        y.append(y[i] + h * f(x[i], y[i]))\n",
        "    return y"
      ],
      "execution_count": null,
      "outputs": []
    },
    {
      "cell_type": "markdown",
      "metadata": {
        "id": "P6Cg_Ve3ZboT"
      },
      "source": [
        "## Модифицированный метод Эйлера"
      ]
    },
    {
      "cell_type": "code",
      "metadata": {
        "id": "qK0Ew4lYZpO4"
      },
      "source": [
        "def Modif_Euler(x, h, y0, f):\n",
        "    y = [y0]\n",
        "    for i in range(len(x)-1):\n",
        "        y.append(y[i] + h * f(x[i]+h/2, y[i]+h/2*f(x[i], y[i])))\n",
        "    return y"
      ],
      "execution_count": null,
      "outputs": []
    },
    {
      "cell_type": "markdown",
      "metadata": {
        "id": "isIL6ddcgovf"
      },
      "source": [
        "## Классический метод Рунге-Кутты 4-го порядка"
      ]
    },
    {
      "cell_type": "code",
      "metadata": {
        "id": "6gVSpz_CgroW"
      },
      "source": [
        "def RungeKutta(x, h, y0, f):\n",
        "    y = [y0]\n",
        "    for i in range(len(x)-1):\n",
        "        k1 = f(x[i], y[i])\n",
        "        k2 = f(x[i] + h/2, y[i] + h*k1/2)\n",
        "        k3 = f(x[i] + h/2, y[i] + h*k2/2)\n",
        "        k4 = f(x[i] + h, y[i] + h*k3)\n",
        "        y.append(y[i] + h/6 * (k1 + 2*k2 + 2*k3 + k4))\n",
        "    return y"
      ],
      "execution_count": null,
      "outputs": []
    },
    {
      "cell_type": "markdown",
      "metadata": {
        "id": "R9idRK1fotOf"
      },
      "source": [
        "## Метод Адамса"
      ]
    },
    {
      "cell_type": "code",
      "metadata": {
        "id": "8nIZdSQ7jN6h"
      },
      "source": [
        "def Adams(x, h, y0, f):\n",
        "    y = RungeKutta(x[:4], h, y0, f)\n",
        "    k = (55, -59, 37, -9)\n",
        "    for i in range(4, len(x)):\n",
        "        y.append(y[-1] + h/24*sum([k[j-1] * f(x[i-j], y[-j]) for j in range(1, 5)]))\n",
        "    return y"
      ],
      "execution_count": null,
      "outputs": []
    },
    {
      "cell_type": "markdown",
      "metadata": {
        "id": "OWseLlZ7Zi0O"
      },
      "source": [
        "## Сравнение"
      ]
    },
    {
      "cell_type": "code",
      "metadata": {
        "id": "1nTdM_izZLX5",
        "colab": {
          "base_uri": "https://localhost:8080/",
          "height": 349
        },
        "outputId": "ffd55470-fd98-47d2-9057-cbb3faf3c1a3"
      },
      "source": [
        "good_y = [y_x(xi) for xi in x]\n",
        "eul_y = Euler(x, h, y0, f)\n",
        "modeul_y = Modif_Euler(x, h, y0, f)\n",
        "rk_y = RungeKutta(x, h, y0, f)\n",
        "adam_y = Adams(x, h, y0, f)\n",
        "\n",
        "plt.plot(x, good_y, label='Точное решение')\n",
        "plt.plot(x, eul_y, label='Метод Эйлера')\n",
        "plt.plot(x, modeul_y, label='Модифицированный метод Эйлера')\n",
        "plt.plot(x, rk_y, label='метод Рунге-Кутты')\n",
        "plt.plot(x, adam_y, label='метод Адамса')\n",
        "plt.legend()\n",
        "def SD(y1, y2): return sqrt(sum([(y1[i]-y2[i])**2 for i in range(len(y1))])/len(y1))\n",
        "print('Среднеквадратические отклонения:')\n",
        "print('метода Эйлера =', SD(good_y, eul_y))\n",
        "print('модифицированного метода Эйлера =', SD(good_y, modeul_y))\n",
        "print('метода Рунге-Кутты =', SD(good_y, rk_y))\n",
        "print('метода Адамса =', SD(good_y, adam_y))"
      ],
      "execution_count": null,
      "outputs": [
        {
          "output_type": "stream",
          "text": [
            "Среднеквадратические отклонения:\n",
            "метода Эйлера = 0.0272266594453816\n",
            "модифицированного метода Эйлера = 0.0003419344800713541\n",
            "метода Рунге-Кутты = 5.638856477845183e-06\n",
            "метода Адамса = 0.00030966725525839674\n"
          ],
          "name": "stdout"
        },
        {
          "output_type": "display_data",
          "data": {
            "image/png": "[encoded data removed]",
            "text/plain": [
              "<Figure size 432x288 with 1 Axes>"
            ]
          },
          "metadata": {
            "tags": [],
            "needs_background": "light"
          }
        }
      ]
    },
    {
      "cell_type": "markdown",
      "metadata": {
        "id": "vKOwxMMnmjAd"
      },
      "source": [
        "# Решить задачу Коши для ОДУ второго порядка на указанном отрезке с заданным шагом $h$"
      ]
    },
    {
      "cell_type": "markdown",
      "metadata": {
        "id": "1z4PEei-o2I2"
      },
      "source": [
        "## Дано:"
      ]
    },
    {
      "cell_type": "code",
      "metadata": {
        "id": "9wEFuqlFmw55"
      },
      "source": [
        "f = lambda x,y,z: 2*cos(x) - y\n",
        "f1 = lambda x,y,z: z\n",
        "y_x = lambda x: x*sin(x) + sin(x) + cos(x)\n",
        "# y_x = lambda x: sin(x) + cos(x)\n",
        "l, r = 0, 10\n",
        "h = 0.1\n",
        "y0, z0 = 1, 1\n",
        "x = [l]\n",
        "for i in range(int((r-l)/h)): x.append(x[-1]+h)"
      ],
      "execution_count": null,
      "outputs": []
    },
    {
      "cell_type": "markdown",
      "metadata": {
        "id": "OTvzha9dp14l"
      },
      "source": [
        "## Метод Эйлера"
      ]
    },
    {
      "cell_type": "code",
      "metadata": {
        "id": "iLfmQXyvp1B2"
      },
      "source": [
        "def Euler(x, h, y0, z0, f, f1):\n",
        "    y = [y0]\n",
        "    zi = z0\n",
        "    for i in range(len(x)-1):\n",
        "        y.append(y[i] + h * f1(x[i], y[i], zi))\n",
        "        zi += h * f(x[i], y[i], zi)\n",
        "    return y"
      ],
      "execution_count": null,
      "outputs": []
    },
    {
      "cell_type": "markdown",
      "metadata": {
        "id": "yaJCpvw4tlJO"
      },
      "source": [
        "## Модифицированный метод Эйлера"
      ]
    },
    {
      "cell_type": "code",
      "metadata": {
        "id": "JB89loWgtjVA"
      },
      "source": [
        "def Modif_Euler(x, h, y0, z0, f, f1):\n",
        "    y = [y0]\n",
        "    zi = z0\n",
        "    for i in range(len(x)-1):\n",
        "        y.append(y[i] + h * f1(x[i]+h/2, y[i]+h/2*f1(x[i], y[i], zi), zi+h/2*f(x[i], y[i], zi)))\n",
        "        zi += h * f(x[i]+h/2, y[i]+h/2*f(x[i], y[i], zi), zi+h/2*f(x[i], y[i], zi))\n",
        "    return y"
      ],
      "execution_count": null,
      "outputs": []
    },
    {
      "cell_type": "markdown",
      "metadata": {
        "id": "O-mfH8prv6is"
      },
      "source": [
        "## Классический метод Рунге-Кутты 4-го порядка"
      ]
    },
    {
      "cell_type": "code",
      "metadata": {
        "id": "Gpj9mEQzv43K"
      },
      "source": [
        "def RungeKutta(x, h, y0, z0, f, f1):\n",
        "    y, z = [y0], [z0]\n",
        "    for i in range(len(x)-1):\n",
        "        k1 = f(x[i], y[i], z[i])\n",
        "        m1 = f1(x[i], y[i], z[i])\n",
        "        k2 = f(x[i]+h/2, y[i]+h*m1/2, z[i]+h*k1/2)\n",
        "        m2 = f1(x[i]+h/2, y[i]+h*m1/2, z[i]+h*k1/2)\n",
        "        k3 = f(x[i]+h/2, y[i]+h*m2/2, z[i]+h*k2/2)\n",
        "        m3 = f1(x[i]+h/2, y[i]+h*m2/2, z[i]+h*k2/2)\n",
        "        k4 = f(x[i]+h, y[i]+h*m3, z[i]+k3)\n",
        "        m4 = f1(x[i]+h, y[i]+h*m3, z[i]+k3)\n",
        "        y.append(y[i] + h/6 * (m1 + 2*m2 + 2*m3 + m4))\n",
        "        z.append(z[i] + h/6 * (k1 + 2*k2 + 2*k3 + k4))\n",
        "    return y, z"
      ],
      "execution_count": null,
      "outputs": []
    },
    {
      "cell_type": "markdown",
      "metadata": {
        "id": "V3uYJlQWyqw4"
      },
      "source": [
        "## Метод Адамса"
      ]
    },
    {
      "cell_type": "code",
      "metadata": {
        "id": "yTZQlqN1yoxP"
      },
      "source": [
        "def Adams(x, h, y0, z0, f, f1):\n",
        "    y, z = RungeKutta(x[:4], h, y0, z0, f, f1)\n",
        "    k = (55, -59, 37, -9)\n",
        "    for i in range(4, len(x)):\n",
        "        z.append(z[-1] + h/24*sum([k[j-1] * f(x[i-j], y[-j], z[-j]) for j in range(1, 5)]))\n",
        "        y.append(y[-1] + h/24*sum([k[j-1] * f1(x[i-j], y[-j], z[-j]) for j in range(1, 5)]))\n",
        "    return y"
      ],
      "execution_count": null,
      "outputs": []
    },
    {
      "cell_type": "markdown",
      "metadata": {
        "id": "Lzfek6QOsAgX"
      },
      "source": [
        "## Сравнение"
      ]
    },
    {
      "cell_type": "code",
      "metadata": {
        "colab": {
          "base_uri": "https://localhost:8080/",
          "height": 349
        },
        "id": "KL35Aw-Urw11",
        "outputId": "bd552366-fa79-4eeb-cb36-0bf33136cbc7"
      },
      "source": [
        "good_y = [y_x(xi) for xi in x]\n",
        "eul_y = Euler(x, h, y0, z0, f, f1)\n",
        "modeul_y = Modif_Euler(x, h, y0, z0, f, f1)\n",
        "rk_y = RungeKutta(x, h, y0, z0, f, f1)[0]\n",
        "adam_y = Adams(x, h, y0, z0, f, f1)\n",
        "\n",
        "plt.plot(x, good_y, label='Точное решение')\n",
        "plt.plot(x, eul_y, label='Метод Эйлера')\n",
        "plt.plot(x, modeul_y, label='Модифицированный метод Эйлера')\n",
        "plt.plot(x, rk_y, label='метод Рунге-Кутты')\n",
        "plt.plot(x, adam_y, label='метод Адамса')\n",
        "plt.legend()\n",
        "def SD(y1, y2): return sqrt(sum([(y1[i]-y2[i])**2 for i in range(len(y1))])/len(y1))\n",
        "print('Среднеквадратические отклонения:')\n",
        "print('метода Эйлера =', SD(good_y, eul_y))\n",
        "print('модифицированного метода Эйлера =', SD(good_y, modeul_y))\n",
        "print('метода Рунге-Кутты =', SD(good_y, rk_y))\n",
        "print('метода Адамса =', SD(good_y, adam_y))"
      ],
      "execution_count": null,
      "outputs": [
        {
          "output_type": "stream",
          "text": [
            "Среднеквадратические отклонения:\n",
            "метода Эйлера = 1.127986772418572\n",
            "модифицированного метода Эйлера = 0.691594040735035\n",
            "метода Рунге-Кутты = 1.153482964541027\n",
            "метода Адамса = 0.8086524830488143\n"
          ],
          "name": "stdout"
        },
        {
          "output_type": "display_data",
          "data": {
            "image/png": "[encoded data removed]",
            "text/plain": [
              "<Figure size 432x288 with 1 Axes>"
            ]
          },
          "metadata": {
            "tags": [],
            "needs_background": "light"
          }
        }
      ]
    },
    {
      "cell_type": "code",
      "metadata": {
        "id": "m7__4L4osaGe"
      },
      "source": [
        ""
      ],
      "execution_count": null,
      "outputs": []
    }
  ]
}