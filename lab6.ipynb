{
  "nbformat": 4,
  "nbformat_minor": 0,
  "metadata": {
    "colab": {
      "name": "lab6.ipynb",
      "provenance": [],
      "collapsed_sections": [],
      "authorship_tag": "ABX9TyMZXJ+BPCH3Ur4mpybST2+C"
    },
    "kernelspec": {
      "name": "python3",
      "display_name": "Python 3"
    },
    "language_info": {
      "name": "python"
    }
  },
  "cells": [
    {
      "cell_type": "code",
      "metadata": {
        "id": "9F1T0_eyuqQv"
      },
      "source": [
        "import matplotlib.pyplot as plt\n",
        "from math import sin, cos, log"
      ],
      "execution_count": 135,
      "outputs": []
    },
    {
      "cell_type": "markdown",
      "metadata": {
        "id": "O39ja9kVuvSE"
      },
      "source": [
        "# 1. Нахождение приближённой сеточной производной по заданной сеточной функции"
      ]
    },
    {
      "cell_type": "code",
      "metadata": {
        "id": "8wHL7uEXvHT4"
      },
      "source": [
        "y = [ 1.6990, 1.7404, 1.7782, 1.8129 ]\n",
        "l, r = 50, 65\n",
        "step = 5"
      ],
      "execution_count": null,
      "outputs": []
    },
    {
      "cell_type": "code",
      "metadata": {
        "id": "TLX2WSYIvBQ7"
      },
      "source": [
        "y = [-0.008, -0.066, -0.209, -0.439, -0.734, -1.044, -1.31, -1.484, -1.542,\n",
        "     -1.491, -1.366, -1.218, -1.093, -1.02, -0.998, -1, -0.982, -0.901,\n",
        "     -0.733, -0.479, -0.174, 0.128, 0.372, 0.513, 0.537, 0.46, 0.323, 0.177,\n",
        "      0.065, 0.009, -0.002 ]\n",
        "l, r = -3, 3\n",
        "step = 0.2"
      ],
      "execution_count": null,
      "outputs": []
    },
    {
      "cell_type": "code",
      "metadata": {
        "id": "jyr_PWsDx2-L"
      },
      "source": [
        "y = [-5, -4.597, -4.178, -3.727, -3.234, -2.688, -2.082, -1.411, -0.674, 0.131,\n",
        "     1, 1.929, 2.91, 3.935, 4.99, 6.063, 7.134, 8.187, 9.198, 10.145, 11]\n",
        "l, r = 0, 2\n",
        "step = 0.1"
      ],
      "execution_count": null,
      "outputs": []
    },
    {
      "cell_type": "code",
      "metadata": {
        "id": "BQqI85aGBNf1"
      },
      "source": [
        "y = [0, 1.483, 2.739, 3.782, 4.647, 5.437, 6.363, 7.723, 9.749, 12.314, 14.659,\n",
        "     15.538, 14.109, 11.222, 9.578, 11.331, 14.75, 15.096, 11.393, 9.66, 13.403]\n",
        "l, r = 0, 4\n",
        "step = 0.2"
      ],
      "execution_count": null,
      "outputs": []
    },
    {
      "cell_type": "code",
      "metadata": {
        "id": "dUaMDB7kBlsU"
      },
      "source": [
        "y = [-4.045, 1.782, 2.279, 2.398, 2.322, 2.109, 1.784, 1.355, 0.83, 0.281, 0, \n",
        "     0.281, 0.83, 1.355, 1.784, 2.109, 2.322, 2.398, 2.279, 1.782, -4.045]\n",
        "l, r = 0, 4\n",
        "step = 0.2"
      ],
      "execution_count": null,
      "outputs": []
    },
    {
      "cell_type": "code",
      "metadata": {
        "id": "eaPaAeoYvMVS"
      },
      "source": [
        "x = [l]\n",
        "for i in range(len(y)-1): x.append(x[-1]+step)\n",
        "dy = [[yi] for yi in y]\n",
        "max_n_delta = 1\n",
        "for i in range(max_n_delta):\n",
        "    for j in range(len(y)-i-1):\n",
        "        dy[j].append(dy[j+1][-1]-dy[j][-1])\n",
        "drv = []\n",
        "for i in range(len(dy)-1):\n",
        "    drv.append(0)\n",
        "    for j in range(1, len(dy[i])):\n",
        "        drv[i] += dy[i][j]/j * (1 if j%2==1  else -1)\n",
        "    drv[i] /= step"
      ],
      "execution_count": null,
      "outputs": []
    },
    {
      "cell_type": "code",
      "metadata": {
        "colab": {
          "base_uri": "https://localhost:8080/",
          "height": 282
        },
        "id": "mK14D7M5AiQf",
        "outputId": "997c7fa4-39fc-49d9-a4b5-7e2de7e352e1"
      },
      "source": [
        "plt.plot(x, y, label='f')\n",
        "plt.plot(x[:-1], drv, label='f \\'')\n",
        "plt.axhline(0, color='black', linewidth=0.4)\n",
        "plt.legend()"
      ],
      "execution_count": null,
      "outputs": [
        {
          "output_type": "execute_result",
          "data": {
            "text/plain": [
              "<matplotlib.legend.Legend at 0x7f2ec0ab8d50>"
            ]
          },
          "metadata": {
            "tags": []
          },
          "execution_count": 225
        },
        {
          "output_type": "display_data",
          "data": {
            "image/png": "[encoded data removed]",
            "text/plain": [
              "<Figure size 432x288 with 1 Axes>"
            ]
          },
          "metadata": {
            "tags": [],
            "needs_background": "light"
          }
        }
      ]
    },
    {
      "cell_type": "markdown",
      "metadata": {
        "id": "iAajKQSiZ5v1"
      },
      "source": [
        "# 2. Интегрировать сеточную функцию на указанном интервале по обобщённому методу Симпсона"
      ]
    },
    {
      "cell_type": "code",
      "metadata": {
        "id": "0N144Sc7aAHw"
      },
      "source": [
        "f = lambda x: sin(x)**3 - cos(x/2)**2 + 2\n",
        "l, r = -3, 3\n",
        "step = 0.2"
      ],
      "execution_count": 211,
      "outputs": []
    },
    {
      "cell_type": "code",
      "metadata": {
        "id": "_K_Kdyqsk7BJ"
      },
      "source": [
        "f = lambda x: -x**4 + 3*x**3 + 4*x - 5\n",
        "l, r = 0, 2\n",
        "step = 0.1"
      ],
      "execution_count": 199,
      "outputs": []
    },
    {
      "cell_type": "code",
      "metadata": {
        "id": "nnFjAXtonxyw"
      },
      "source": [
        "f = lambda x: sin(x)**3 - 3*sin(x**2) + 4*sin(x) + 4*x\n",
        "l, r = 0, 4\n",
        "step = 0.2"
      ],
      "execution_count": 215,
      "outputs": []
    },
    {
      "cell_type": "code",
      "metadata": {
        "id": "NU2SeULepT0l"
      },
      "source": [
        "f = lambda x: log(10*sin((3*x/5)**2) + 1)\n",
        "l, r = -3, 3\n",
        "step = 0.005"
      ],
      "execution_count": 207,
      "outputs": []
    },
    {
      "cell_type": "code",
      "metadata": {
        "id": "Qj17x5UEanGY"
      },
      "source": [
        "x = [l]\n",
        "for i in range(int((r-l)/step)): x.append(x[-1]+step)\n",
        "y = [f(xi) for xi in x]"
      ],
      "execution_count": 216,
      "outputs": []
    },
    {
      "cell_type": "code",
      "metadata": {
        "id": "YwEHDlXXiJEb"
      },
      "source": [
        "S = 0\n",
        "for i in range(len(y)):\n",
        "    if i == 0 or i == len(y)-1:\n",
        "        S += y[i] * 1\n",
        "    elif i%2==0:\n",
        "        S += y[i] * 2\n",
        "    else:\n",
        "        S += y[i] * 4\n",
        "S *= step / 3"
      ],
      "execution_count": 217,
      "outputs": []
    },
    {
      "cell_type": "code",
      "metadata": {
        "id": "GaHc-Bt4a_Uf",
        "outputId": "fbe4aaab-67c8-44a2-b1cd-75f4f820a445",
        "colab": {
          "base_uri": "https://localhost:8080/",
          "height": 265
        }
      },
      "source": [
        "padding = (r-l)//step/10*step\n",
        "l, r = l-padding, r+padding\n",
        "x, y = [], []\n",
        "for i in range(int((r-l)/step)+1):\n",
        "    try: y.append(f(l+i*step))\n",
        "    except: continue\n",
        "    else: x.append(l+i*step)\n",
        "l, r = l+padding, r-padding\n",
        "plt.plot(x, y)\n",
        "plt.axhline(0, color='black', linewidth=0.4)\n",
        "plt.fill_between(x, y, where=[(l-step**2)<=xi<=(r+2*step**2) for xi in x], facecolor='0.9', edgecolor='0.5')\n",
        "plt.text((l+r)/2, f((l+r)/2)/2, 'S = '+str(S));"
      ],
      "execution_count": 218,
      "outputs": [
        {
          "output_type": "display_data",
          "data": {
            "image/png": "[encoded data removed]",
            "text/plain": [
              "<Figure size 432x288 with 1 Axes>"
            ]
          },
          "metadata": {
            "tags": [],
            "needs_background": "light"
          }
        }
      ]
    },
    {
      "cell_type": "code",
      "metadata": {
        "id": "pQbj-mHxcQwu"
      },
      "source": [
        ""
      ],
      "execution_count": 166,
      "outputs": []
    }
  ]
}